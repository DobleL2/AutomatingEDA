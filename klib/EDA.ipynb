{
 "cells": [
  {
   "cell_type": "code",
   "execution_count": 35,
   "metadata": {},
   "outputs": [],
   "source": [
    "import klib\n",
    "import pandas as pd\n",
    "import matplotlib.pyplot as plt\n",
    "\n",
    "# Load your dataset\n",
    "df = pd.read_csv('data/Characters.csv', sep=';')\n",
    "\n",
    "# 1. Categorical Plot (visualization of the number and frequency of categorical features)\n",
    "klib.cat_plot(df)\n",
    "plt.savefig('klib_cat_plot.png')\n",
    "plt.close()\n",
    "\n",
    "# 5. Distribution Plot (for every numeric feature)\n",
    "klib.dist_plot(df)\n",
    "plt.savefig('klib_dist_plot.png')\n",
    "plt.close()\n",
    "\n",
    "# 6. Missing Value Plot (returns a figure with info about missing values)\n",
    "klib.missingval_plot(df)\n",
    "plt.savefig('klib_missingval_plot.png')\n",
    "plt.close()"
   ]
  }
 ],
 "metadata": {
  "kernelspec": {
   "display_name": "env",
   "language": "python",
   "name": "python3"
  },
  "language_info": {
   "codemirror_mode": {
    "name": "ipython",
    "version": 3
   },
   "file_extension": ".py",
   "mimetype": "text/x-python",
   "name": "python",
   "nbconvert_exporter": "python",
   "pygments_lexer": "ipython3",
   "version": "3.10.15"
  }
 },
 "nbformat": 4,
 "nbformat_minor": 2
}

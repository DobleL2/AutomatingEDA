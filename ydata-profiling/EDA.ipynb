{
 "cells": [
  {
   "cell_type": "code",
   "execution_count": 3,
   "metadata": {},
   "outputs": [
    {
     "name": "stderr",
     "output_type": "stream",
     "text": [
      "Summarize dataset: 100%|██████████| 26/26 [00:01<00:00, 22.43it/s, Completed]                    \n",
      "Generate report structure: 100%|██████████| 1/1 [00:05<00:00,  5.30s/it]\n",
      "Render HTML: 100%|██████████| 1/1 [00:00<00:00,  3.05it/s]\n",
      "Export report to file: 100%|██████████| 1/1 [00:00<00:00, 410.28it/s]\n"
     ]
    }
   ],
   "source": [
    "#Install the below libaries before importing\n",
    "import pandas as pd\n",
    "from ydata_profiling import ProfileReport\n",
    "\n",
    "#EDA using pandas-profiling\n",
    "profile = ProfileReport(pd.read_csv('data/Characters.csv',sep=';'), explorative=True)\n",
    "\n",
    "#Saving results to a HTML file\n",
    "profile.to_file(\"Report.html\")"
   ]
  }
 ],
 "metadata": {
  "kernelspec": {
   "display_name": "env",
   "language": "python",
   "name": "python3"
  },
  "language_info": {
   "codemirror_mode": {
    "name": "ipython",
    "version": 3
   },
   "file_extension": ".py",
   "mimetype": "text/x-python",
   "name": "python",
   "nbconvert_exporter": "python",
   "pygments_lexer": "ipython3",
   "version": "3.10.15"
  }
 },
 "nbformat": 4,
 "nbformat_minor": 2
}
